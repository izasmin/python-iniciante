{
  "nbformat": 4,
  "nbformat_minor": 0,
  "metadata": {
    "colab": {
      "provenance": [],
      "authorship_tag": "ABX9TyOr0x6I5SObXzSKFfAlr2RQ",
      "include_colab_link": true
    },
    "kernelspec": {
      "name": "python3",
      "display_name": "Python 3"
    },
    "language_info": {
      "name": "python"
    }
  },
  "cells": [
    {
      "cell_type": "markdown",
      "metadata": {
        "id": "view-in-github",
        "colab_type": "text"
      },
      "source": [
        "<a href=\"https://colab.research.google.com/github/izasmin/python-iniciante/blob/main/1a_Lista_Python_DSA.ipynb\" target=\"_parent\"><img src=\"https://colab.research.google.com/assets/colab-badge.svg\" alt=\"Open In Colab\"/></a>"
      ]
    },
    {
      "cell_type": "code",
      "execution_count": 1,
      "metadata": {
        "colab": {
          "base_uri": "https://localhost:8080/"
        },
        "id": "Ox-djHESJn9r",
        "outputId": "a0dfad35-1f15-4714-b4f7-04292bd2075d"
      },
      "outputs": [
        {
          "output_type": "stream",
          "name": "stdout",
          "text": [
            "[0]\n",
            "[0, 1]\n",
            "[0, 1, 2]\n",
            "[0, 1, 2, 3]\n",
            "[0, 1, 2, 3, 4]\n",
            "[0, 1, 2, 3, 4, 5]\n",
            "[0, 1, 2, 3, 4, 5, 6]\n",
            "[0, 1, 2, 3, 4, 5, 6, 7]\n",
            "[0, 1, 2, 3, 4, 5, 6, 7, 8]\n",
            "[0, 1, 2, 3, 4, 5, 6, 7, 8, 9]\n",
            "[0, 1, 2, 3, 4, 5, 6, 7, 8, 9, 10]\n"
          ]
        }
      ],
      "source": [
        "numbers = []\n",
        "for i in range(11):\n",
        "    numbers.append(i)\n",
        "    print(numbers)\n"
      ]
    },
    {
      "cell_type": "markdown",
      "source": [],
      "metadata": {
        "id": "Tnh14-ZhJz-L"
      }
    },
    {
      "cell_type": "code",
      "source": [
        "objetos = ['Thierry Mugler', 'Calvin Klein', 'Coco Chanel', 'Dior','Prada']\n",
        "print(objetos)\n"
      ],
      "metadata": {
        "colab": {
          "base_uri": "https://localhost:8080/"
        },
        "id": "8GOrp7NzJ2hq",
        "outputId": "d28bafc6-0f91-437c-8557-20adfed34d25"
      },
      "execution_count": 2,
      "outputs": [
        {
          "output_type": "stream",
          "name": "stdout",
          "text": [
            "['Thierry Mugler', 'Calvin Klein', 'Coco Chanel', 'Dior', 'Prada']\n"
          ]
        }
      ]
    },
    {
      "cell_type": "code",
      "source": [
        "string1 = 'Thierry'\n",
        "string2 = 'Mugler'\n",
        "concatenada = string1 + ' ' + string2\n",
        "print(concatenada)"
      ],
      "metadata": {
        "colab": {
          "base_uri": "https://localhost:8080/"
        },
        "id": "DmQQkuHLiBdT",
        "outputId": "c95252d2-baeb-49cf-ab64-de7a2eff012b"
      },
      "execution_count": 3,
      "outputs": [
        {
          "output_type": "stream",
          "name": "stdout",
          "text": [
            "Thierry Mugler\n"
          ]
        }
      ]
    },
    {
      "cell_type": "markdown",
      "source": [
        "Pode ser assim também:\n",
        "strings = [\"Thierry\", \"Mugler\"]\n",
        "concatenada = \" \".join(strings)\n",
        "print(concatenada)"
      ],
      "metadata": {
        "id": "nPB-57zjiErx"
      }
    },
    {
      "cell_type": "code",
      "source": [
        "numeros = (1, 2, 2, 3, 4, 4, 4, 5)\n",
        "contador = numeros.count(4)\n",
        "print(f\"O numero 4 aparece {contador} vezes na tupla.\")"
      ],
      "metadata": {
        "id": "9oQrUo7RvB7A"
      },
      "execution_count": null,
      "outputs": []
    },
    {
      "cell_type": "code",
      "source": [
        "dicionario = {}\n",
        "print(dicionario)\n"
      ],
      "metadata": {
        "id": "W_K9ff74v_64"
      },
      "execution_count": null,
      "outputs": []
    },
    {
      "cell_type": "code",
      "source": [
        "dicionario = {\"Moda\":\"Paris \", \"Desfile\": \" São Paulo\", \"Marcas\": \"Milão\"}\n",
        "\n",
        "print(dicionario)"
      ],
      "metadata": {
        "id": "kXAAuvC33Bza"
      },
      "execution_count": null,
      "outputs": []
    },
    {
      "cell_type": "code",
      "source": [
        "dicionario = {\"Moda\":\"Paris \", \"Desfile\": \" São Paulo\", \"Marcas\": \"Milão\", \"Couro\": \"Itália\"}\n",
        "\n",
        "print(dicionario)"
      ],
      "metadata": {
        "colab": {
          "base_uri": "https://localhost:8080/"
        },
        "id": "jFNi_RlG32V8",
        "outputId": "56b07936-f7a6-484c-c9c7-5f3372c08a5e"
      },
      "execution_count": 1,
      "outputs": [
        {
          "output_type": "stream",
          "name": "stdout",
          "text": [
            "{'Moda': 'Paris ', 'Desfile': ' São Paulo', 'Marcas': 'Milão', 'Couro': 'Itália'}\n"
          ]
        }
      ]
    },
    {
      "cell_type": "code",
      "source": [
        "dicionario = {\"Moda\": [25,26], \"Desfile\": \"São Paulo\", \"Marcas\": \"Milão\"}\n",
        "print(dicionario)"
      ],
      "metadata": {
        "colab": {
          "base_uri": "https://localhost:8080/"
        },
        "id": "TQ73AzTu5ZIn",
        "outputId": "f9a1c843-7ec9-4d05-82df-e3247c64ee75"
      },
      "execution_count": 2,
      "outputs": [
        {
          "output_type": "stream",
          "name": "stdout",
          "text": [
            "{'Moda': [25, 26], 'Desfile': 'São Paulo', 'Marcas': 'Milão'}\n"
          ]
        }
      ]
    },
    {
      "cell_type": "code",
      "source": [
        "lista = ['oi', \"(e1, e2)\", {\"chave\": \"ok\", \"key\": \"okay\"}, 2.3]\n",
        "print(lista)"
      ],
      "metadata": {
        "colab": {
          "base_uri": "https://localhost:8080/"
        },
        "id": "d6LOjCZ6Ck6J",
        "outputId": "0a60aa76-9614-4183-9ccc-311c1f1ea59a"
      },
      "execution_count": 3,
      "outputs": [
        {
          "output_type": "stream",
          "name": "stdout",
          "text": [
            "['oi', '(e1, e2)', {'chave': 'ok', 'key': 'okay'}, 2.3]\n"
          ]
        }
      ]
    },
    {
      "cell_type": "code",
      "source": [
        "frase = 'Cientista de Dados é o profissional mais sexy do século XXI'\n",
        "print(frase[0:18])"
      ],
      "metadata": {
        "id": "vF5k18EQDvVp"
      },
      "execution_count": null,
      "outputs": []
    }
  ]
}